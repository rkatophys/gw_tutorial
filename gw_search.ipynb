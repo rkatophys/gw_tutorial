{
  "cells": [
    {
      "cell_type": "markdown",
      "metadata": {
        "id": "view-in-github",
        "colab_type": "text"
      },
      "source": [
        "<a href=\"https://colab.research.google.com/github/rkatophys/gw_tutorial/blob/main/gw_search.ipynb\" target=\"_parent\"><img src=\"https://colab.research.google.com/assets/colab-badge.svg\" alt=\"Open In Colab\"/></a>"
      ]
    },
    {
      "cell_type": "markdown",
      "metadata": {
        "id": "dKO0FX4Mwomc"
      },
      "source": [
        "### <font color= “colorを指定”>注意：このノートブックは、必ずGoogle Colaboratory (Colab)で実行すること。Googleアカウントが必要。</font>\n"
      ]
    },
    {
      "cell_type": "markdown",
      "metadata": {
        "id": "9Ng8VZ_j9gPY"
      },
      "source": [
        "# ここでは、NANOGravの最新のデータを解析するためのチュートリアルを行う。\n",
        "\n",
        "(参照: https://github.com/nanograv/15yr_stochastic_analysis)"
      ]
    },
    {
      "cell_type": "markdown",
      "metadata": {
        "id": "thMEASFRwomg"
      },
      "source": [
        "## 環境構築：次の二つのセルにより、必要なパッケージをGoogle Colabにインストールする。\n",
        "<font color= “colorを指定”>注意：一回の講義内では問題ないが、ColabはPython環境を保存しないため、この環境構築は講義ごとに、毎回行わなければならない。\n",
        "さらに、Colab上に作成されたデータも保存しないため、必要なデータは自分のPCにダウンロードする。</font>"
      ]
    },
    {
      "cell_type": "code",
      "execution_count": null,
      "metadata": {
        "id": "g9I3AMG0womg"
      },
      "outputs": [],
      "source": [
        "# 初回だけこのセルを実行する。\n",
        "# セッションをクラッシュさせるが問題ない。\n",
        "# Restarting kernel... が表示されたら、この下のセルを実行する。\n",
        "!pip install -q condacolab\n",
        "import condacolab\n",
        "condacolab.install_mambaforge()"
      ]
    },
    {
      "cell_type": "code",
      "execution_count": null,
      "metadata": {
        "id": "nloZ7UCOwomh"
      },
      "outputs": [],
      "source": [
        "# 初回だけこのセルを実行する。\n",
        "%%capture\n",
        "!mamba install -y -c conda-forge enterprise_extensions h5pulsar\n",
        "!git clone https://github.com/AaronDJohnson/15yr_stochastic_analysis"
      ]
    },
    {
      "cell_type": "markdown",
      "metadata": {
        "id": "3_R_4iOFwomi"
      },
      "source": [
        "## Pythonパッケージのimportと、データのPATHの指定。"
      ]
    },
    {
      "cell_type": "code",
      "execution_count": null,
      "metadata": {
        "id": "QTRXLiQ6A--5"
      },
      "outputs": [],
      "source": [
        "import os, sys\n",
        "sys.path.insert(0,'/content/15yr_stochastic_analysis/tutorials')\n",
        "\n",
        "datadir = '/content/15yr_stochastic_analysis/tutorials/data'\n",
        "\n",
        "os.environ[\"OMP_NUM_THREADS\"] = \"1\""
      ]
    },
    {
      "cell_type": "code",
      "execution_count": null,
      "metadata": {
        "id": "brX25RLLwomi"
      },
      "outputs": [],
      "source": [
        "# 一般的なPythonパッケージ\n",
        "import glob\n",
        "import matplotlib.pyplot as plt\n",
        "import corner\n",
        "import numpy as np\n",
        "import scipy.stats as st\n",
        "\n",
        "# パルサー固有のPythonパッケージ\n",
        "from enterprise.signals import utils\n",
        "from h5pulsar.pulsar import FilePulsar\n",
        "\n",
        "# 一般的なMCMCのPythonパッケージ\n",
        "import pymc as pm\n",
        "import arviz as az\n",
        "import pytensor\n",
        "import pytensor.tensor as pt"
      ]
    },
    {
      "cell_type": "markdown",
      "metadata": {
        "id": "9pwomrQmwomj"
      },
      "source": [
        "## 67個の最新のパルサーのデータをロード\n",
        "psrsは67個のパルサーのデータのリスト。"
      ]
    },
    {
      "cell_type": "code",
      "execution_count": null,
      "metadata": {
        "id": "qFwPuW7Swomj"
      },
      "outputs": [],
      "source": [
        "psrs = []\n",
        "for hdf5_file in glob.glob(datadir + '/hdf5/*.hdf5'):\n",
        "    psrs.append(FilePulsar(hdf5_file))\n",
        "print('Loaded {0} pulsars from hdf5 files'.format(len(psrs)))"
      ]
    },
    {
      "cell_type": "markdown",
      "metadata": {
        "id": "X0-Ek6mr32z9"
      },
      "source": [
        "## 最も自転周期が正確なパルサーの一つ(J1909-3744)の波形を確認する。\n",
        "ここで得られる波形の縦軸と横軸は秒の単位。よって、パルサーのデータとは5*10^8秒(15年に対応)の間に生じた、10マイクロ秒の自転周期の揺らぎであることがわかる。この揺らぎの中に、重力波やダークマターの信号が含まれていると考えられている。\n",
        "\n",
        "全てのデータを解析するには時間が足りないため、パルサーはJ1909-3744だけを考え、さらに、J1909-3744のデータも小さくしている。"
      ]
    },
    {
      "cell_type": "code",
      "execution_count": null,
      "metadata": {
        "id": "o_eNOZQ7NrWF"
      },
      "outputs": [],
      "source": [
        "# まず、psrsに含まれているパルサーの名前とそのインデックスを確認する。\n",
        "for i, psr in enumerate(psrs):\n",
        "  print(f\"Index: {i} and Pulsar name: {psr.name}\")"
      ]
    },
    {
      "cell_type": "code",
      "execution_count": null,
      "metadata": {
        "id": "yNEHOGZUD9na"
      },
      "outputs": [],
      "source": [
        "# 以上のセルより、J1909-3744のデータのインデックスは63である。\n",
        "# ここでは、J1909-3744のClassをpsrと名付けた。\n",
        "num=63\n",
        "onepsr=psrs[num]"
      ]
    },
    {
      "cell_type": "code",
      "execution_count": null,
      "metadata": {
        "id": "DK6-SzCj3jPk"
      },
      "outputs": [],
      "source": [
        "# J1909-3744の観測時間(toas)と自転周期の揺らぎ (residuals)のデータ。\n",
        "datax_long=onepsr.toas\n",
        "datay_long=onepsr.residuals\n",
        "\n",
        "# プロット。\n",
        "plt.figure(figsize=(10,5))\n",
        "plt.plot(datax_long,datay_long,\".\")\n",
        "plt.xlabel(\"Toas [s]\")\n",
        "plt.ylabel(\"Residuals [s]\")\n",
        "plt.title(f\"{onepsr.name}\")\n",
        "\n",
        "print(f\"データの数: {len(datax_long)}\")"
      ]
    },
    {
      "cell_type": "code",
      "execution_count": null,
      "metadata": {
        "id": "4QGN14OjiLDP"
      },
      "outputs": [],
      "source": []
    },
    {
      "cell_type": "markdown",
      "metadata": {
        "id": "wXLnstXFi_UH"
      },
      "source": [
        "パルサーは一回の観測で、50個程度のデータが得られる。\n",
        "ここでは、簡単のため、この50個程度のデータを平均し、1個のデータにする。\n",
        "一回の観測期間中の自転周期の変動が、観測ごとの変動より小さければ、この平均は正当化される。"
      ]
    },
    {
      "cell_type": "code",
      "execution_count": null,
      "metadata": {
        "id": "HCyoh75VOtyU"
      },
      "outputs": [],
      "source": [
        "# パルサー固有のPythonパッケージを用いているため詳細は省くが、一回の観測で得られたデータの数を取得している。\n",
        "U, _ = utils.create_quantization_matrix(onepsr.toas, nmin=1)\n",
        "_uinds = utils.quant2ind(U)\n",
        "\n",
        "# 平均を取ることで数が少なくなったJ1909-3744の観測時間(toas)と自転周期の揺らぎ (residuals)のデータ。\n",
        "datax=np.array([(onepsr.toas[sc]).mean() for sc in _uinds])\n",
        "datay=np.interp(datax, onepsr.toas, onepsr.residuals)\n",
        "\n",
        "# プロット。\n",
        "plt.figure(figsize=(10,5))\n",
        "plt.plot(datax,datay,\".\")\n",
        "plt.xlabel(\"Toas [s]\")\n",
        "plt.ylabel(\"Residuals [s]\")\n",
        "plt.title(f\"Average {onepsr.name}\")\n",
        "\n",
        "print(f\"データの数: {len(datax)}\")"
      ]
    },
    {
      "cell_type": "markdown",
      "metadata": {
        "id": "ouvH7If1ujQL"
      },
      "source": [
        "## データ解析の一例として、ここからはベイズ的パラメータ推定を行う。\n",
        "これ以降は、データがパルサーであること以外は、非常に一般的な解析を、PyMCというパッケージを用いて行う。\n",
        "\n",
        "参考として、パラメータ推定で用いるベイズの定理は、 $p(\\theta|d)\\propto p(d|\\theta)p(\\theta)$である。\n",
        "\n",
        "ここで、$p(\\theta|d)$は事後分布、\n",
        "$p(d|\\theta)$は尤度関数、\n",
        "$p(\\theta)$は事前分布、\n",
        "$\\theta$はパラメータ、\n",
        "$d$はデータ\n"
      ]
    },
    {
      "cell_type": "markdown",
      "metadata": {
        "id": "mY3tXgIi4pip"
      },
      "source": [
        "まず、検出したい信号の波形を以下のようにSin波だと仮定してみる。\n",
        "なぜなら、重力波やダークマターの一部はSin波の信号を引き起こすと考えられているからである。\n",
        "\n",
        "$s(\\theta')=A\\sin(2 \\pi f t+\\alpha)$\n",
        "\n",
        "ここで、Aは振幅 [s]、fは振動数 [Hz]、tは観測時間 [s]、$\\alpha$は位相 [rad]、$\\theta'=\\{A,f,\\alpha\\}$。\n",
        "もちろん、これ以外の波形を考えてもよい。\n",
        "または、以下のように直線かもしれない。\n",
        "\n",
        "$s(\\theta'')=At+C$\n",
        "\n",
        "ここで、Cは定数 [s]、$\\theta''=\\{A,C\\}$。"
      ]
    },
    {
      "cell_type": "code",
      "execution_count": null,
      "metadata": {
        "id": "ekU3Y-Q2e2RB"
      },
      "outputs": [],
      "source": [
        "# 検出したい信号の波形を定義\n",
        "def modely_function(amplitude,frequency,phase):\n",
        "    sinwave=amplitude*pt.sin(2*np.pi*frequency*datax+phase)\n",
        "    return sinwave"
      ]
    },
    {
      "cell_type": "markdown",
      "metadata": {
        "id": "HKiwGgfpu1DP"
      },
      "source": [
        "さらに、J1909-3744のデータdは、Sin波$s(\\theta')$とホワイトガウスノイズnの和であると仮定する。\n",
        "つまり、\n",
        "\n",
        "$d=s(\\theta')+n$\n",
        "\n",
        "である。\n",
        "\n",
        "\\\n",
        "この仮定のもと、尤度関数(likelihood)は以下のように多変量正規分布になることが導かれる。\n",
        "\n",
        "$p(d|\\theta)=\\frac{1}{\\sqrt{\\operatorname*{det}(2\\pi C)}}\\exp\\left(-\\frac{1}{2}(d-s(\\theta'))^{T}C^{-1}(d-s(\\theta'))\\right)$\n",
        "\n",
        "ここで、$C=\\sigma^2I$、$I$は単位行列、$s(\\theta')$=$A\\sin(2 \\pi f t+\\alpha)$、$\\theta=\\{A,f,\\alpha,\\sigma\\}$、$\\theta'=\\{A,f,\\alpha\\}$。\n",
        "\n",
        "自然対数を取ると、対数尤度関数は、\n",
        "\n",
        "$\\log(p(d|\\theta))=-\\frac{1}{2}\\left(n \\log(2 \\pi \\sigma^2)+\\sum{\\frac{(d-s(\\theta'))^2}{\\sigma^2}}\\right)$\n",
        "\n",
        "である。ここで、nは配列の数、$\\sum$は全ての配列の和。"
      ]
    },
    {
      "cell_type": "code",
      "execution_count": null,
      "metadata": {
        "id": "l7zkdjYRsS75"
      },
      "outputs": [],
      "source": [
        "def likelihood_pymc(amplitude,frequency,phase,sigma2):\n",
        "    # 検出したい信号の波形の計算\n",
        "    modely = modely_function(amplitude,frequency,phase)\n",
        "\n",
        "    # 検出したい信号が決定論的信号であり、ノイズがホワイトガウシアンであるときの尤度関数。\n",
        "    logdet_C = len(datax)*pt.log(2*np.pi*sigma2)\n",
        "    rCr = pt.sum((datay-modely) ** 2 / sigma2)\n",
        "    loglike = -0.5 * (logdet_C + rCr)\n",
        "\n",
        "    return loglike"
      ]
    },
    {
      "cell_type": "markdown",
      "metadata": {
        "id": "KKIPN-65u-qa"
      },
      "source": [
        "最後にパラメータの事前分布を定義し、モデルMを定義する。\n",
        "\n",
        "パラメータの事前分布はそれぞれ独立とし、一様分布、対数一様分布とする。これは、パラメータに対してほとんど事前知識がない場合に用いられることが多い。\n",
        "\n",
        "$p(\\theta)=p(A)p(f)p(\\alpha)p(\\sigma)$\n",
        "\n",
        "$p(A)={\\rm Loguniform}[10^{-10} , 10^{-4}]$、パラメータの単位はs\n",
        "\n",
        "$p(f)={\\rm Loguniform}[10^{-9} , 10^{-6}]$、パラメータの単位はHz\n",
        "\n",
        "$p(\\alpha)={\\rm uniform}[0 , 2 \\Pi]$、パラメータの単位はrad\n",
        "\n",
        "$p(\\sigma)={\\rm Loguniform}[10^{-10} , 10^{-4}]$、パラメータの単位はs\n"
      ]
    },
    {
      "cell_type": "code",
      "execution_count": null,
      "metadata": {
        "id": "ii5zAxv4C21M"
      },
      "outputs": [],
      "source": [
        "model = pm.Model()\n",
        "with model:\n",
        "    # 検出したい信号のパラメータの事前分布を定義\n",
        "    log10_amplitude = pm.Uniform(\"log10_amplitude\", -10, -4)\n",
        "    log10_frequency = pm.Uniform(\"log10_frequency\", -9, -6)\n",
        "    phase = pm.Uniform(\"phase\", 0.0, 2*np.pi)\n",
        "    log10_sigma = pm.Uniform(\"log10_sigma\", -10.0, -4.0)\n",
        "\n",
        "    # 対数をとっているパラメータを戻す。\n",
        "    amplitude=10**log10_amplitude\n",
        "    frequency=10**log10_frequency\n",
        "    sigma2=10 ** (2*log10_sigma)\n",
        "\n",
        "    # 尤度関数を呼び出す。\n",
        "    loglikelihood = pm.Potential(\n",
        "        \"likelihood\", likelihood_pymc(amplitude,frequency,phase,sigma2))"
      ]
    },
    {
      "cell_type": "markdown",
      "metadata": {
        "id": "JivlW7RX2G7h"
      },
      "source": [
        "以上より、モデルMをまとめると、観測データdは、Sin波$s(\\theta')$とホワイトガウシアンノイズ$n$の和であらわされるということである。つまり、$M: d=s(\\theta')+n$である。\n",
        "そして、各パラメータの事前分布は独立で(対数)一様分布である。"
      ]
    },
    {
      "cell_type": "code",
      "execution_count": null,
      "metadata": {
        "id": "Uq41ohRLm6yD"
      },
      "outputs": [],
      "source": [
        "# モデルのパラメータの依存関係の可視化\n",
        "# 各パラメータは、事前分布が(対数)一様分布（Uniform）であり、\n",
        "# 尤度関数(likelihood)に独立に寄与する簡単なモデルであることがわかる。\n",
        "pm.model_to_graphviz(model)"
      ]
    },
    {
      "cell_type": "markdown",
      "metadata": {
        "id": "cgKteibjtLU9"
      },
      "source": [
        "尤度関数$p(d|\\theta)$と事前分布$p(\\theta)$を定義したので、MCMCを用いて事後分布$p(\\theta|d)$から標本を得ることができる。\n",
        "ここでは、SMCというMCMCの手法の一つを用いている。"
      ]
    },
    {
      "cell_type": "code",
      "execution_count": null,
      "metadata": {
        "id": "CzLVMdzLC26h"
      },
      "outputs": [],
      "source": [
        "# MCMCによる計算。計算時間が長くなる場合も多い。\n",
        "with model:\n",
        "  trace = pm.smc.sample_smc(draws=4000,kernel=pm.smc.MH,chains=4,\n",
        "                            cores=os.cpu_count(),random_seed=1)"
      ]
    },
    {
      "cell_type": "code",
      "execution_count": null,
      "metadata": {
        "id": "vR1vb44BIfzD"
      },
      "outputs": [],
      "source": [
        "# MCMCで得られた標本。クリックするとデータが展開される。\n",
        "# posteriorのData variablesの部分に各パラメータの事後分布からの標本が保存されている。\n",
        "trace"
      ]
    },
    {
      "cell_type": "code",
      "execution_count": null,
      "metadata": {
        "id": "8ucCjrmqE4qU"
      },
      "outputs": [],
      "source": [
        "# 各パラメータの事後分布からの標本を用いて、パラメータの統計量(平均(mean)や　標準偏差(sd)など)が計算できる。\n",
        "pm.summary(trace, round_to=10)"
      ]
    },
    {
      "cell_type": "code",
      "execution_count": null,
      "metadata": {
        "id": "-XGeACsEFbL3"
      },
      "outputs": [],
      "source": [
        "# MCMCによって推定されるパラメータの事後分布の二次元と一次元のプロット\n",
        "# 点の数が多い部分がパラメーターの正しい値に近いと考えられる。\n",
        "# 十字の線の交点は最も正しいと思われる値。\n",
        "plot2d=az.plot_pair(trace,point_estimate=\"mode\",marginals=True)"
      ]
    },
    {
      "cell_type": "code",
      "execution_count": null,
      "metadata": {
        "id": "I9lQIgbYrUtP"
      },
      "outputs": [],
      "source": [
        "# 最も正しいと思われるパラメータの値を取得\n",
        "names=list(model.named_vars.keys())[:-1]\n",
        "mapvars={}\n",
        "for i, name in enumerate(names):\n",
        "  mapvar=az.plots.plot_utils.calculate_point_estimate('mode', trace.posterior[name].variable.to_numpy().flatten())\n",
        "  mapvars[name]=mapvar\n",
        "print(mapvars)"
      ]
    },
    {
      "cell_type": "code",
      "execution_count": null,
      "metadata": {
        "id": "iuusFIY7L4_k"
      },
      "outputs": [],
      "source": [
        "# 最も正しいと思われるパラメータの値を用いたSin波と、元のデータを比較。\n",
        "mapy=modely_function(10**mapvars['log10_amplitude'],10**mapvars['log10_frequency'],mapvars['phase']).eval()\n",
        "\n",
        "# プロット\n",
        "# 十五年に二回程度振動する波があるように見えるかもしれない\n",
        "plt.plot(datax,datay,\".\")\n",
        "plt.plot(datax,mapy)"
      ]
    },
    {
      "cell_type": "code",
      "execution_count": null,
      "metadata": {
        "id": "-8T56CRfL5Gt"
      },
      "outputs": [],
      "source": []
    },
    {
      "cell_type": "markdown",
      "metadata": {
        "id": "Nr04CrH9ra7L"
      },
      "source": [
        "# 知りたいことの一つ: どのような設定で、対数周辺尤度（ベイズ因子に直接関係する）が大きくなるのか。\n",
        "\n",
        "例えば、事前分布の確率分布(ここでは(対数)一様分布であった)や、信号のモデル（ここではSin波であった）を変えることで対数周辺尤度の値は変化する。\n",
        "また、MCMCのランダム性から偶然大きくなることもある。\n",
        "\n",
        "ここで、ベイズ因子はモデルを比較するときにデータを変更してはいけないため、J1909-3744というデータは使いつづけなければならない。\n",
        "\n",
        "\n"
      ]
    },
    {
      "cell_type": "markdown",
      "metadata": {
        "id": "dSgvRdzcDHsT"
      },
      "source": [
        "具体的なベイズ因子と周辺尤度の関係は以下で述べる。\n",
        "周辺尤度はモデルM1をあらわに書くと、$p(d|M1)$となる。\n",
        "\n",
        "\n",
        "\n",
        "ここで、M1: $d=s(\\theta')+n$, $s(\\theta')=A\\sin(2 \\pi f t+\\alpha)$。\n",
        "\n",
        "一方、例えば、重力波の波形が直線とするモデルM2を考えると、周辺尤度は$p(d|M2)$になる。\n",
        "\n",
        "\n",
        "\n",
        "ここで、M2: $d=s(\\theta'')+n$, $s(\\theta'')=At+C$。\n",
        "\n",
        "\n",
        "このとき、ベイズ因子Kは、以下のように定義ができ、K>1ならばモデルM1を支持するなどと解釈される。\n",
        "\n",
        "$K=\\frac{p(d|M1)}{p(d|M2)}$"
      ]
    },
    {
      "cell_type": "code",
      "execution_count": null,
      "metadata": {
        "id": "1-pjN7gQFWbO"
      },
      "outputs": [],
      "source": [
        "# 対数周辺尤度(Log marginal likelihood)。証拠(Evidence)とも呼ばれる。\n",
        "# ベイズ因子に直接関係し、対数周辺尤度が大きければ大きいほど、\n",
        "# 検出したい信号の波形のモデル(今回はSin波)が優れていることを表す。\n",
        "\n",
        "arr = np.hstack(trace.sample_stats[\"log_marginal_likelihood\"].to_numpy()[0])\n",
        "log_evidences=arr[~np.isnan(arr)]\n",
        "log_evidence_mean=np.mean(log_evidences)\n",
        "log_evidence_std=np.std(log_evidences,ddof=1)\n",
        "print(f\"対数周辺尤度の平均: {log_evidence_mean} 分散: {log_evidence_std}\")"
      ]
    },
    {
      "cell_type": "code",
      "execution_count": null,
      "metadata": {
        "id": "9XY-SPcndj_A"
      },
      "outputs": [],
      "source": []
    }
  ],
  "metadata": {
    "colab": {
      "provenance": [],
      "include_colab_link": true
    },
    "kernelspec": {
      "display_name": "rosettaprise",
      "language": "python",
      "name": "python3"
    },
    "language_info": {
      "codemirror_mode": {
        "name": "ipython",
        "version": 3
      },
      "file_extension": ".py",
      "mimetype": "text/x-python",
      "name": "python",
      "nbconvert_exporter": "python",
      "pygments_lexer": "ipython3",
      "version": "3.10.12"
    },
    "orig_nbformat": 4
  },
  "nbformat": 4,
  "nbformat_minor": 0
}